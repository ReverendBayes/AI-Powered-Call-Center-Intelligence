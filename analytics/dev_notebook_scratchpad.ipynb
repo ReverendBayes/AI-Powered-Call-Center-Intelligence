# --- analysis_notebook.ipynb ---
# This Jupyter notebook explores and visualizes post-call analytics
# Data comes from DuckDB, visualized via Altair charts from powerdash_components

import duckdb
import pandas as pd
import altair as alt
from analytics.powerdash_components import (
    plot_sentiment_timeline,
    plot_issue_distribution,
    plot_resolution_tactics,
    plot_agent_satisfaction
)

# --- Connect to DuckDB where we store processed call summaries ---
db_path = "analytics/call_summary.db"
con = duckdb.connect(database=db_path, read_only=True)

# --- Load the main call data ---
df = con.execute("SELECT * FROM call_insights").fetchdf()

# --- Preview the schema and sample ---
display(df.head())

# --- Chart 1: Sentiment Over Time ---
chart1 = plot_sentiment_timeline(df)
chart1.display()

# --- Chart 2: Issue Category Distribution ---
chart2 = plot_issue_distribution(df)
chart2.display()

# --- Chart 3: Resolution Tactic Usage ---
chart3 = plot_resolution_tactics(df)
chart3.display()

# --- Chart 4 (Optional): Agent Satisfaction Trends ---
if "agent_id" in df.columns:
    chart4 = plot_agent_satisfaction(df)
    chart4.display()

# --- More analysis could go here ---
# - Topic modeling
# - Escalation correlation
# - Behavioral archetype clustering
