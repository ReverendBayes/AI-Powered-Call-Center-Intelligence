{
 "cells": [
  {
   "cell_type": "code",
   "execution_count": null,
   "id": "6e673867-a696-404b-a91c-0e2b3fb4c150",
   "metadata": {},
   "outputs": [],
   "source": [
    "# --- analysis_notebook.ipynb ---\n",
    "# This Jupyter notebook explores and visualizes post-call analytics\n",
    "# Data comes from DuckDB, visualized via Altair charts from powerdash_components\n",
    "\n",
    "import duckdb\n",
    "import pandas as pd\n",
    "import altair as alt\n",
    "from analytics.powerdash_components import (\n",
    "    plot_sentiment_timeline,\n",
    "    plot_issue_distribution,\n",
    "    plot_resolution_tactics,\n",
    "    plot_agent_satisfaction\n",
    ")\n",
    "\n",
    "# --- Connect to DuckDB where we store processed call summaries ---\n",
    "db_path = \"analytics/call_summary.db\"\n",
    "con = duckdb.connect(database=db_path, read_only=True)\n",
    "\n",
    "# --- Load the main call data ---\n",
    "df = con.execute(\"SELECT * FROM call_insights\").fetchdf()\n",
    "\n",
    "# --- Preview the schema and sample ---\n",
    "display(df.head())\n",
    "\n",
    "# --- Chart 1: Sentiment Over Time ---\n",
    "chart1 = plot_sentiment_timeline(df)\n",
    "chart1.display()\n",
    "\n",
    "# --- Chart 2: Issue Category Distribution ---\n",
    "chart2 = plot_issue_distribution(df)\n",
    "chart2.display()\n",
    "\n",
    "# --- Chart 3: Resolution Tactic Usage ---\n",
    "chart3 = plot_resolution_tactics(df)\n",
    "chart3.display()\n",
    "\n",
    "# --- Chart 4 (Optional): Agent Satisfaction Trends ---\n",
    "if \"agent_id\" in df.columns:\n",
    "    chart4 = plot_agent_satisfaction(df)\n",
    "    chart4.display()\n",
    "\n",
    "# --- More analysis could go here ---\n",
    "# - Topic modeling\n",
    "# - Escalation correlation\n",
    "# - Behavioral archetype clustering"
   ]
  }
 ],
 "metadata": {
  "kernelspec": {
   "display_name": "Python 3",
   "language": "python",
   "name": "python3"
  },
  "language_info": {
   "codemirror_mode": {
    "name": "ipython",
    "version": 3
   },
   "file_extension": ".py",
   "mimetype": "text/x-python",
   "name": "python",
   "nbconvert_exporter": "python",
   "pygments_lexer": "ipython3",
   "version": "3.12.5"
  }
 },
 "nbformat": 4,
 "nbformat_minor": 5
}
